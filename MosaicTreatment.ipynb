{
 "cells": [
  {
   "cell_type": "code",
   "execution_count": 2,
   "id": "40abbab0",
   "metadata": {},
   "outputs": [],
   "source": [
    "#5팀\n",
    "#박세진, 서기욱, 김경영, 양연지\n",
    "#사용한 영상 : Lenna.png, guide.png(프로그램 안내 이미지)\n",
    "\n",
    "import numpy as np\n",
    "import cv2"
   ]
  },
  {
   "cell_type": "code",
   "execution_count": 17,
   "id": "b33e310c",
   "metadata": {},
   "outputs": [],
   "source": [
    "#최대값 필터\n",
    "def max_filter(img) :\n",
    "    height, width= img.shape\n",
    "    temp, max_out = img.copy(), img.copy()\n",
    "    \n",
    "    #3x3 필터를 이용하여 최대값을 구함\n",
    "    for i in range(height):\n",
    "        for j in range(width):\n",
    "            max_out[i, j] = np.max(temp[i:i + 3, j:j + 3])\n",
    "    \n",
    "    return max_out\n",
    "\n",
    "#최소값 필터\n",
    "def min_filter(img) :\n",
    "    height, width= img.shape\n",
    "    temp, min_out = img.copy(), img.copy()\n",
    "    \n",
    "    #3x3 필터를 이용하여 최소값을 구함\n",
    "    for i in range(height):\n",
    "        for j in range(width):\n",
    "            min_out[i, j] = np.min(temp[i:i + 3, j:j + 3])\n",
    "    \n",
    "    return min_out"
   ]
  },
  {
   "cell_type": "code",
   "execution_count": 19,
   "id": "2ea151fc",
   "metadata": {},
   "outputs": [
    {
     "name": "stdout",
     "output_type": "stream",
     "text": [
      "a\n",
      "x\n",
      "m\n",
      "l\n"
     ]
    },
    {
     "ename": "error",
     "evalue": "OpenCV(4.6.0) D:\\a\\opencv-python\\opencv-python\\opencv\\modules\\imgproc\\src\\resize.cpp:4052: error: (-215:Assertion failed) !ssize.empty() in function 'cv::resize'\n",
     "output_type": "error",
     "traceback": [
      "\u001b[1;31m---------------------------------------------------------------------------\u001b[0m",
      "\u001b[1;31merror\u001b[0m                                     Traceback (most recent call last)",
      "\u001b[1;32mc:\\4-1\\ImageProcessing\\StudyImageProcessing\\MosaicTreatment.ipynb Cell 3\u001b[0m in \u001b[0;36m5\n\u001b[0;32m     <a href='vscode-notebook-cell:/c%3A/4-1/ImageProcessing/StudyImageProcessing/MosaicTreatment.ipynb#W2sZmlsZQ%3D%3D?line=51'>52</a>\u001b[0m     clipImg \u001b[39m=\u001b[39m img[start_y:end_y, start_x:end_x]\n\u001b[0;32m     <a href='vscode-notebook-cell:/c%3A/4-1/ImageProcessing/StudyImageProcessing/MosaicTreatment.ipynb#W2sZmlsZQ%3D%3D?line=53'>54</a>\u001b[0m     \u001b[39m#축소 후 확대\u001b[39;00m\n\u001b[1;32m---> <a href='vscode-notebook-cell:/c%3A/4-1/ImageProcessing/StudyImageProcessing/MosaicTreatment.ipynb#W2sZmlsZQ%3D%3D?line=54'>55</a>\u001b[0m     clipImg \u001b[39m=\u001b[39m cv2\u001b[39m.\u001b[39;49mresize(clipImg, \u001b[39mNone\u001b[39;49;00m, fx \u001b[39m=\u001b[39;49m \u001b[39m1\u001b[39;49m\u001b[39m/\u001b[39;49mpower, fy \u001b[39m=\u001b[39;49m \u001b[39m1\u001b[39;49m\u001b[39m/\u001b[39;49mpower, interpolation \u001b[39m=\u001b[39;49m cv2\u001b[39m.\u001b[39;49mINTER_CUBIC)\n\u001b[0;32m     <a href='vscode-notebook-cell:/c%3A/4-1/ImageProcessing/StudyImageProcessing/MosaicTreatment.ipynb#W2sZmlsZQ%3D%3D?line=55'>56</a>\u001b[0m     clipImg \u001b[39m=\u001b[39m cv2\u001b[39m.\u001b[39mresize(clipImg, \u001b[39mNone\u001b[39;00m, fx \u001b[39m=\u001b[39m power, fy \u001b[39m=\u001b[39m power, interpolation \u001b[39m=\u001b[39m cv2\u001b[39m.\u001b[39mINTER_CUBIC)\n\u001b[0;32m     <a href='vscode-notebook-cell:/c%3A/4-1/ImageProcessing/StudyImageProcessing/MosaicTreatment.ipynb#W2sZmlsZQ%3D%3D?line=57'>58</a>\u001b[0m \u001b[39m#클립된 이미지를 원래 이미지에 붙여넣기\u001b[39;00m\n",
      "\u001b[1;31merror\u001b[0m: OpenCV(4.6.0) D:\\a\\opencv-python\\opencv-python\\opencv\\modules\\imgproc\\src\\resize.cpp:4052: error: (-215:Assertion failed) !ssize.empty() in function 'cv::resize'\n"
     ]
    }
   ],
   "source": [
    "img = cv2.imread('./images/Lenna.png', cv2.IMREAD_GRAYSCALE)\n",
    "guide = cv2.imread('./images/guide.png', cv2.IMREAD_GRAYSCALE)\n",
    "\n",
    "click = False     # Mouse 클릭된 상태  False == 클릭 안된 상태 / True == 클릭된 상태\n",
    "start_x, start_y = -1, -1 # 마우스를 누른 상태에서 x,y 좌표 저장\n",
    "end_x, end_y = -1, -1 # 마우스를 때면 x,y 좌표 저장\n",
    "key = 'a' #마우스 클릭시 필터링할 키값\n",
    "power = 4 # 축소 후 확대의 배수\n",
    "\n",
    "def draw_rectangle(event, x, y, flags, param):\n",
    "    global end_x, end_y, start_x, start_y, click, key, power                           # 전역변수 사용\n",
    "\n",
    "    if event == cv2.EVENT_LBUTTONDOWN:                      \n",
    "        click = True \n",
    "        start_x, start_y = x,y #마우스 클릭 시 좌표 저장\n",
    "    elif event == cv2.EVENT_LBUTTONUP:\n",
    "        click = False                                 \n",
    "        end_x, end_y = x, y #마우스 클릭 해제 시 좌표 저장\n",
    "\n",
    "        #만약 끝좌표가 시작좌표보다 작으면 두 좌표를 바꿔줌\n",
    "        if start_x > end_x :\n",
    "            start_x, end_x = end_x, start_x\n",
    "            \n",
    "        if start_y > end_y :\n",
    "            start_y, end_y = end_y, start_y\n",
    "            \n",
    "        clipImg = img[start_y:end_y, start_x:end_x]\n",
    "        \n",
    "        #평균값 필터\n",
    "        if key == 'a' :\n",
    "            #커널 지정 후 필터링\n",
    "            kernel = np.ones((5,5))/5**2\n",
    "            clipImg = cv2.filter2D(clipImg, -1, kernel)\n",
    "            \n",
    "        #최대값 필터\n",
    "        elif key == 'x' :\n",
    "            clipImg = max_filter(clipImg)\n",
    "        \n",
    "        #최소값 필터\n",
    "        elif key == 'm' :\n",
    "            clipImg = min_filter(clipImg)\n",
    "        \n",
    "        #축소 후 확대\n",
    "        elif key == 'l' :\n",
    "            #만약 클립된 이미지의 크기가 power의 배수가 아니라면 power의 배수가 될 수 있게 값을 더해줌\n",
    "            if (end_x - start_x) % power != 0:\n",
    "                end_x += power - (end_x - start_x) % power\n",
    "            \n",
    "            if (end_y - start_y) % power != 0:\n",
    "                end_y += power - (end_y - start_y) % power\n",
    "                \n",
    "            clipImg = img[start_y:end_y, start_x:end_x]\n",
    "            \n",
    "            #축소 후 확대\n",
    "            clipImg = cv2.resize(clipImg, None, fx = 1/power, fy = 1/power, interpolation = cv2.INTER_CUBIC)\n",
    "            clipImg = cv2.resize(clipImg, None, fx = power, fy = power, interpolation = cv2.INTER_CUBIC)\n",
    "        \n",
    "        #클립된 이미지를 원래 이미지에 붙여넣기\n",
    "        img[start_y:end_y, start_x:end_x] = clipImg\n",
    "\n",
    "#마우스 이벤트를 받기 위한 함수\n",
    "cv2.namedWindow('image')\n",
    "cv2.setMouseCallback('image',draw_rectangle)    \n",
    "\n",
    "cv2.imshow('guide', guide)\n",
    "\n",
    "while True:\n",
    "    cv2.imshow('image', img)    \n",
    "    \n",
    "    k = cv2.waitKey(1) & 0xFF   \n",
    "    \n",
    "    #키값에 따라 다른 필터 적용\n",
    "    if k == 27:               \n",
    "        break\n",
    "    elif k == ord('a'): \n",
    "        key = 'a'\n",
    "        print(key)\n",
    "    elif k == ord('x') :\n",
    "        key = 'x'\n",
    "        print(key)\n",
    "    elif k == ord('m') :\n",
    "        key = 'm'\n",
    "        print(key)\n",
    "    elif k == ord('l') :\n",
    "        key = 'l'\n",
    "        print(key)\n",
    "          \n",
    "cv2.destroyAllWindows()"
   ]
  },
  {
   "cell_type": "code",
   "execution_count": null,
   "id": "fdd7b631",
   "metadata": {},
   "outputs": [],
   "source": []
  }
 ],
 "metadata": {
  "kernelspec": {
   "display_name": "Python 3",
   "language": "python",
   "name": "python3"
  },
  "language_info": {
   "codemirror_mode": {
    "name": "ipython",
    "version": 3
   },
   "file_extension": ".py",
   "mimetype": "text/x-python",
   "name": "python",
   "nbconvert_exporter": "python",
   "pygments_lexer": "ipython3",
   "version": "3.11.0"
  },
  "vscode": {
   "interpreter": {
    "hash": "c9f2012b9f1e27d9c5cb7b5ab1a4021d047b5ad900d8e22e99663e89e0d3824f"
   }
  }
 },
 "nbformat": 4,
 "nbformat_minor": 5
}
