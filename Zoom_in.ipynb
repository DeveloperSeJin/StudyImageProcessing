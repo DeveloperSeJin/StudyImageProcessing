{
 "cells": [
  {
   "cell_type": "code",
   "execution_count": 8,
   "metadata": {},
   "outputs": [
    {
     "name": "stdout",
     "output_type": "stream",
     "text": [
      "512 512\n"
     ]
    }
   ],
   "source": [
    "import cv2\n",
    "import numpy as np\n",
    "\n",
    "img = cv2.imread('./images/Lenna.png', 0)\n",
    "\n",
    "#확대할 배율\n",
    "power = 2\n",
    "\n",
    "#원본 이미지의 높이, 너비\n",
    "height, weight = img.shape[0], img.shape[1]\n",
    "\n",
    "dst = np.zeros((height * power, weight * power), dtype = np.uint8)\n",
    "#확대된 이미지의 높이, 너비\n",
    "dst_height, dst_weight = dst.shape[0], dst.shape[1]\n",
    "\n",
    "#확대된 이미지의 좌표에 배율의 몫의 픽셀값을 넣어준다.\n",
    "for y in range(dst_height):\n",
    "  for x in range(dst_weight):\n",
    "    new_x = x // power\n",
    "    new_y = y // power\n",
    "    dst[y, x] = img[new_y, new_x]\n",
    "\n",
    "cv2.imshow('original', img)\n",
    "cv2.imshow('zoom in', dst)\n",
    "\n",
    "cv2.waitKey()\n",
    "cv2.destroyAllWindows()"
   ]
  },
  {
   "cell_type": "code",
   "execution_count": null,
   "metadata": {},
   "outputs": [],
   "source": []
  }
 ],
 "metadata": {
  "kernelspec": {
   "display_name": "Python 3",
   "language": "python",
   "name": "python3"
  },
  "language_info": {
   "codemirror_mode": {
    "name": "ipython",
    "version": 3
   },
   "file_extension": ".py",
   "mimetype": "text/x-python",
   "name": "python",
   "nbconvert_exporter": "python",
   "pygments_lexer": "ipython3",
   "version": "3.11.0"
  },
  "orig_nbformat": 4
 },
 "nbformat": 4,
 "nbformat_minor": 2
}
