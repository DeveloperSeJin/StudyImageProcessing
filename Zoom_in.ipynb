{
 "cells": [
  {
   "cell_type": "code",
   "execution_count": 3,
   "metadata": {},
   "outputs": [],
   "source": [
    "import cv2\n",
    "import numpy as np\n",
    "\n",
    "img = cv2.imread('./images/Lenna.png', 0)\n",
    "height, weight = img.shape[0], img.shape[1]\n",
    "dst = np.zeros((height * 2, weight * 2), dtype = np.uint8)\n",
    "dst_height, dst_weight = dst.shape[0], dst.shape[1]\n",
    "\n",
    "for y in range(dst_height):\n",
    "  for x in range(dst_weight):\n",
    "    new_x = x // 2\n",
    "    new_y = y // 2\n",
    "    dst[y, x] = img[new_y, new_x]\n",
    "\n",
    "cv2.imshow('original', img)\n",
    "cv2.imshow('zoom in', dst)\n",
    "\n",
    "cv2.waitKey()\n",
    "cv2.destroyAllWindows()"
   ]
  },
  {
   "cell_type": "code",
   "execution_count": null,
   "metadata": {},
   "outputs": [],
   "source": []
  }
 ],
 "metadata": {
  "kernelspec": {
   "display_name": "Python 3",
   "language": "python",
   "name": "python3"
  },
  "language_info": {
   "codemirror_mode": {
    "name": "ipython",
    "version": 3
   },
   "file_extension": ".py",
   "mimetype": "text/x-python",
   "name": "python",
   "nbconvert_exporter": "python",
   "pygments_lexer": "ipython3",
   "version": "3.11.0"
  },
  "orig_nbformat": 4
 },
 "nbformat": 4,
 "nbformat_minor": 2
}
