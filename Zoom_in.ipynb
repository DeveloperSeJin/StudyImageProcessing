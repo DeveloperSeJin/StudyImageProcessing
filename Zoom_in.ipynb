{
 "cells": [
  {
   "cell_type": "code",
   "execution_count": 10,
   "metadata": {},
   "outputs": [
    {
     "ename": "TypeError",
     "evalue": "'float' object cannot be interpreted as an integer",
     "output_type": "error",
     "traceback": [
      "\u001b[1;31m---------------------------------------------------------------------------\u001b[0m",
      "\u001b[1;31mTypeError\u001b[0m                                 Traceback (most recent call last)",
      "\u001b[1;32mc:\\4-1\\ImageProcessing\\StudyImageProcessing\\Zoom_in.ipynb Cell 1\u001b[0m in \u001b[0;36m1\n\u001b[0;32m      <a href='vscode-notebook-cell:/c%3A/4-1/ImageProcessing/StudyImageProcessing/Zoom_in.ipynb#W0sZmlsZQ%3D%3D?line=8'>9</a>\u001b[0m \u001b[39m#원본 이미지의 높이, 너비\u001b[39;00m\n\u001b[0;32m     <a href='vscode-notebook-cell:/c%3A/4-1/ImageProcessing/StudyImageProcessing/Zoom_in.ipynb#W0sZmlsZQ%3D%3D?line=9'>10</a>\u001b[0m height, weight \u001b[39m=\u001b[39m img\u001b[39m.\u001b[39mshape[\u001b[39m0\u001b[39m], img\u001b[39m.\u001b[39mshape[\u001b[39m1\u001b[39m]\n\u001b[1;32m---> <a href='vscode-notebook-cell:/c%3A/4-1/ImageProcessing/StudyImageProcessing/Zoom_in.ipynb#W0sZmlsZQ%3D%3D?line=11'>12</a>\u001b[0m dst \u001b[39m=\u001b[39m np\u001b[39m.\u001b[39;49mzeros((height \u001b[39m*\u001b[39;49m power, weight \u001b[39m*\u001b[39;49m power), dtype \u001b[39m=\u001b[39;49m np\u001b[39m.\u001b[39;49muint8)\n\u001b[0;32m     <a href='vscode-notebook-cell:/c%3A/4-1/ImageProcessing/StudyImageProcessing/Zoom_in.ipynb#W0sZmlsZQ%3D%3D?line=12'>13</a>\u001b[0m \u001b[39m#확대된 이미지의 높이, 너비\u001b[39;00m\n\u001b[0;32m     <a href='vscode-notebook-cell:/c%3A/4-1/ImageProcessing/StudyImageProcessing/Zoom_in.ipynb#W0sZmlsZQ%3D%3D?line=13'>14</a>\u001b[0m dst_height, dst_weight \u001b[39m=\u001b[39m dst\u001b[39m.\u001b[39mshape[\u001b[39m0\u001b[39m], dst\u001b[39m.\u001b[39mshape[\u001b[39m1\u001b[39m]\n",
      "\u001b[1;31mTypeError\u001b[0m: 'float' object cannot be interpreted as an integer"
     ]
    }
   ],
   "source": [
    "import cv2\n",
    "import numpy as np\n",
    "\n",
    "img = cv2.imread('./images/Lenna.png', 0)\n",
    "\n",
    "#확대할 배율\n",
    "power = 2.5\n",
    "\n",
    "#원본 이미지의 높이, 너비\n",
    "height, weight = img.shape[0], img.shape[1]\n",
    "\n",
    "dst = np.zeros((height * power, weight * power), dtype = np.uint8)\n",
    "#확대된 이미지의 높이, 너비\n",
    "dst_height, dst_weight = dst.shape[0], dst.shape[1]\n",
    "\n",
    "#확대된 이미지의 좌표에 배율의 몫의 픽셀값을 넣어준다.\n",
    "for y in range(dst_height):\n",
    "  for x in range(dst_weight):\n",
    "    new_x = x // power\n",
    "    new_y = y // power\n",
    "    dst[y, x] = img[new_y, new_x]\n",
    "\n",
    "cv2.imshow('original', img)\n",
    "cv2.imshow('zoom in', dst)\n",
    "\n",
    "cv2.waitKey()\n",
    "cv2.destroyAllWindows()"
   ]
  },
  {
   "cell_type": "code",
   "execution_count": 24,
   "metadata": {},
   "outputs": [],
   "source": [
    "import cv2\n",
    "import numpy as np\n",
    "\n",
    "img = cv2.imread('./images/Lenna.png', 0)\n",
    "\n",
    "#확대할 배율\n",
    "power = 2\n",
    "\n",
    "#원본 이미지의 높이, 너비\n",
    "height, weight = img.shape[0], img.shape[1]\n",
    "\n",
    "dst = np.zeros((height * power, weight * power), dtype = np.uint8)\n",
    "#확대된 이미지의 높이, 너비\n",
    "dst_height, dst_weight = dst.shape[0], dst.shape[1]\n",
    "\n",
    "#양선형 보간법을 적용한 좌표 계산\n",
    "for y in range(dst_height):\n",
    "  for x in range(dst_weight):\n",
    "    px = int(x / power)\n",
    "    py = int(y / power)\n",
    "    \n",
    "    y1, x1 = py, px\n",
    "    y2, x2  = py, px + 1\n",
    "    y3, x3  = py + 1, px\n",
    "    y4, x4  = py + 1, px + 1\n",
    "  \n",
    "    fx1 = (x / power) - x1\n",
    "    fx2 = 1 - fx1\n",
    "    fy1 = (y / power) - y1\n",
    "    fy2 = 1 - fy1\n",
    "    \n",
    "    if px + 1 >= weight or py + 1 >= height:\n",
    "        dst[y, x] = img[y1, x1]\n",
    "    else :\n",
    "        A = img[y1, x1] * fx2 + img[y2, x2] * fx1\n",
    "        B = img[y3, x3] * fx2 + img[y4, x4] * fx1\n",
    "        dst[y, x] = int(A * fy2 + B * fy1)\n",
    "\n",
    "cv2.imshow('original', img)\n",
    "cv2.imshow('zoom in', dst)\n",
    "\n",
    "cv2.waitKey()\n",
    "cv2.destroyAllWindows()"
   ]
  }
 ],
 "metadata": {
  "kernelspec": {
   "display_name": "Python 3",
   "language": "python",
   "name": "python3"
  },
  "language_info": {
   "codemirror_mode": {
    "name": "ipython",
    "version": 3
   },
   "file_extension": ".py",
   "mimetype": "text/x-python",
   "name": "python",
   "nbconvert_exporter": "python",
   "pygments_lexer": "ipython3",
   "version": "3.11.0"
  },
  "orig_nbformat": 4
 },
 "nbformat": 4,
 "nbformat_minor": 2
}
