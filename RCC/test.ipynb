{
 "cells": [
  {
   "cell_type": "code",
   "execution_count": 1,
   "metadata": {},
   "outputs": [
    {
     "data": {
      "text/html": [
       "<div>\n",
       "<style scoped>\n",
       "    .dataframe tbody tr th:only-of-type {\n",
       "        vertical-align: middle;\n",
       "    }\n",
       "\n",
       "    .dataframe tbody tr th {\n",
       "        vertical-align: top;\n",
       "    }\n",
       "\n",
       "    .dataframe thead th {\n",
       "        text-align: right;\n",
       "    }\n",
       "</style>\n",
       "<table border=\"1\" class=\"dataframe\">\n",
       "  <thead>\n",
       "    <tr style=\"text-align: right;\">\n",
       "      <th></th>\n",
       "      <th>Name</th>\n",
       "      <th>BGR</th>\n",
       "    </tr>\n",
       "  </thead>\n",
       "  <tbody>\n",
       "    <tr>\n",
       "      <th>0</th>\n",
       "      <td>UltimateGary_color</td>\n",
       "      <td>151, 149, 147</td>\n",
       "    </tr>\n",
       "    <tr>\n",
       "      <th>1</th>\n",
       "      <td>Cerulean_color</td>\n",
       "      <td>212, 183, 155</td>\n",
       "    </tr>\n",
       "    <tr>\n",
       "      <th>2</th>\n",
       "      <td>GreenAsh_color</td>\n",
       "      <td>173, 221, 160</td>\n",
       "    </tr>\n",
       "    <tr>\n",
       "      <th>3</th>\n",
       "      <td>Illuminating_color</td>\n",
       "      <td>77, 233, 245</td>\n",
       "    </tr>\n",
       "    <tr>\n",
       "      <th>4</th>\n",
       "      <td>FrenchBule_color</td>\n",
       "      <td>181, 114, 0</td>\n",
       "    </tr>\n",
       "    <tr>\n",
       "      <th>...</th>\n",
       "      <td>...</td>\n",
       "      <td>...</td>\n",
       "    </tr>\n",
       "    <tr>\n",
       "      <th>86</th>\n",
       "      <td>GrayRed</td>\n",
       "      <td>81, 92, 114</td>\n",
       "    </tr>\n",
       "    <tr>\n",
       "      <th>87</th>\n",
       "      <td>VividRed</td>\n",
       "      <td>86, 60, 190</td>\n",
       "    </tr>\n",
       "    <tr>\n",
       "      <th>88</th>\n",
       "      <td>LightGrayBlue</td>\n",
       "      <td>205, 175, 158</td>\n",
       "    </tr>\n",
       "    <tr>\n",
       "      <th>89</th>\n",
       "      <td>StrongPink</td>\n",
       "      <td>96, 30, 196</td>\n",
       "    </tr>\n",
       "    <tr>\n",
       "      <th>90</th>\n",
       "      <td>Dlark</td>\n",
       "      <td>28, 28, 28</td>\n",
       "    </tr>\n",
       "  </tbody>\n",
       "</table>\n",
       "<p>91 rows × 2 columns</p>\n",
       "</div>"
      ],
      "text/plain": [
       "                   Name            BGR\n",
       "0    UltimateGary_color  151, 149, 147\n",
       "1        Cerulean_color  212, 183, 155\n",
       "2       GreenAsh_color   173, 221, 160\n",
       "3   Illuminating_color    77, 233, 245\n",
       "4     FrenchBule_color     181, 114, 0\n",
       "..                  ...            ...\n",
       "86              GrayRed    81, 92, 114\n",
       "87             VividRed    86, 60, 190\n",
       "88        LightGrayBlue  205, 175, 158\n",
       "89           StrongPink    96, 30, 196\n",
       "90                Dlark     28, 28, 28\n",
       "\n",
       "[91 rows x 2 columns]"
      ]
     },
     "execution_count": 1,
     "metadata": {},
     "output_type": "execute_result"
    }
   ],
   "source": [
    "import pandas as pd\n",
    "\n",
    "color_data = pd.read_csv('./color.csv')\n",
    "color_data"
   ]
  },
  {
   "cell_type": "code",
   "execution_count": 14,
   "metadata": {},
   "outputs": [],
   "source": [
    "color_data.dropna(inplace=True)"
   ]
  },
  {
   "cell_type": "code",
   "execution_count": 17,
   "metadata": {},
   "outputs": [
    {
     "data": {
      "text/plain": [
       "array(['UltimateGary_color', 'Cerulean_color', 'GreenAsh_color ',\n",
       "       'Illuminating_color ', 'FrenchBule_color ', 'IndigoBunting_color ',\n",
       "       'Mint_color ', 'PolatNight_color ', 'Willow_color ',\n",
       "       'Inkweel_color ', 'PickledPepper_color ', 'PurpleRose_color ',\n",
       "       'Buttercream_color ', 'Macchiato_color ', 'BabysBreath_color ',\n",
       "       'DesertMist_color ', 'Beige_color ', 'sphagnum_color ', 'White',\n",
       "       'LightNavy', 'LightGrayOrange', 'PalePink', 'DarkGrayRed',\n",
       "       'DarkBlue', 'DarkRed', 'LightGrayNavy', 'DarkGrayOrange',\n",
       "       'LightGrayOrange', 'GrayOrange', 'White', 'DarkOrange', 'SoftBlue',\n",
       "       'DarkRed', 'Dlack', 'Gray', 'White2', 'white3', 'LightRed',\n",
       "       'LightGray', 'PaleBlue', 'LightGray', 'DarkNavy', 'GrayNavy',\n",
       "       'Dlack', 'VividTurquoise', 'PaleBlue', 'LightGrayGreen', 'White',\n",
       "       'DarkGrayishGreen', 'White', 'DarkGreen', 'LightGrayYellow',\n",
       "       'DarkGrayGreen', 'Dlack', 'DeepNavy', 'White', 'PaleBlue',\n",
       "       'LightYellow', 'LightRed', 'Dlack', 'PaleBlue', 'DullOrange',\n",
       "       'PaleBlue', 'White', 'PaleBlue', 'Dlack', 'VividBlue', 'LightGray',\n",
       "       'DeepBlue', 'PaleBlue', 'LightGrayOrange', 'LightGrayOrange',\n",
       "       'LightGrayOrange', 'LightGrayRed', 'LightGrayOrange', 'Gray',\n",
       "       'LightGrayOrange', 'GrayNavy', 'LightGrayOrange', 'GrayOrange',\n",
       "       'LightRed', 'LightGrayOrange', 'LightRed', 'LightGray', 'LightRed',\n",
       "       'GrayRed', 'VividRed', 'LightGrayBlue', 'StrongPink', 'Dlark'],\n",
       "      dtype=object)"
      ]
     },
     "execution_count": 17,
     "metadata": {},
     "output_type": "execute_result"
    }
   ],
   "source": [
    "import numpy as np\n",
    "color = color_data['Name'].to_numpy()\n",
    "color"
   ]
  },
  {
   "cell_type": "code",
   "execution_count": 18,
   "metadata": {},
   "outputs": [
    {
     "data": {
      "text/plain": [
       "array(['151, 149, 147', '212, 183, 155', '173, 221, 160', '77, 233, 245',\n",
       "       '181, 114, 0', '169, 108, 0', '112, 161, 0', '64, 53, 52',\n",
       "       '79, 139, 154', '69,57, 54', '83, 166, 160', '202, 159, 176',\n",
       "       '206, 227, 240', '117, 139, 173', '209, 226, 233', '137, 181, 224',\n",
       "       '150, 185, 212', '61, 99, 98', '255, 255, 255', '207, 176, 155',\n",
       "       '139, 162, 188', '196, 179, 230', '103, 102, 106', '78, 41, 15',\n",
       "       '44, 56, 84', '133, 126, 123', '50, 61, 81', '189, 170, 153',\n",
       "       '90, 71, 57', '255, 255, 255', '43, 62, 99', '130, 101, 74',\n",
       "       '55, 68, 100', '38, 38, 38', '169, 164, 165', '234, 234, 234',\n",
       "       '239, 239, 239', '141, 118, 222', '217, 215, 214', '219, 192, 171',\n",
       "       '219, 219, 219', '69, 34, 24', '108, 102, 103', '22, 22, 22',\n",
       "       '33, 164, 132', '182, 216, 226', '153, 207, 148', '255, 255, 255',\n",
       "       '69, 105, 91', '231, 231, 231', '33, 104, 88', '196, 223, 227',\n",
       "       '53, 91, 63', '39, 39, 39', '76, 4, 4', '236, 236, 236',\n",
       "       '227, 197, 168', '131, 211, 234', '117, 98, 247', '39, 39, 39',\n",
       "       '239, 224, 198', '106, 149, 182', '207, 176, 155', '244, 244, 244',\n",
       "       '215, 194, 163', '26, 26, 26', '127, 93, 17', '212, 211, 213',\n",
       "       '126, 80, 9', '209, 179, 152', '144, 167, 193', '233, 238, 247',\n",
       "       '209, 220, 234', '134, 134, 198', '216, 225, 239', '160, 160, 160',\n",
       "       '215, 223, 236', '108, 59, 61', '209, 218, 232', '58, 73, 92',\n",
       "       '147, 129, 218', '232, 239, 248', '156, 138, 232', '199, 199, 199',\n",
       "       '203, 193, 240', '81, 92, 114', '86, 60, 190', '205, 175, 158',\n",
       "       '96, 30, 196', '28, 28, 28'], dtype=object)"
      ]
     },
     "execution_count": 18,
     "metadata": {},
     "output_type": "execute_result"
    }
   ],
   "source": [
    "bgr = color_data['BGR'].to_numpy()\n",
    "bgr"
   ]
  },
  {
   "cell_type": "code",
   "execution_count": 19,
   "metadata": {},
   "outputs": [
    {
     "name": "stdout",
     "output_type": "stream",
     "text": [
      "[151 212 173  77 181 169 112  64  79  69  83 202 206 117 209 137 150  61\n",
      " 255 207 139 196 103  78  44 133  50 189  90 255  43 130  55  38 169 234\n",
      " 239 141 217 219 219  69 108  22  33 182 153 255  69 231  33 196  53  39\n",
      "  76 236 227 131 117  39 239 106 207 244 215  26 127 212 126 209 144 233\n",
      " 209 134 216 160 215 108 209  58 147 232 156 199 203  81  86 205  96  28]\n",
      "[149 183 221 233 114 108 161  53 139  57 166 159 227 139 226 181 185  99\n",
      " 255 176 162 179 102  41  56 126  61 170  71 255  62 101  68  38 164 234\n",
      " 239 118 215 192 219  34 102  22 164 216 207 255 105 231 104 223  91  39\n",
      "   4 236 197 211  98  39 224 149 176 244 194  26  93 211  80 179 167 238\n",
      " 220 134 225 160 223  59 218  73 129 239 138 199 193  92  60 175  30  28]\n",
      "[147 155 160 245   0   0   0  52 154  54 160 176 240 173 233 224 212  98\n",
      " 255 155 188 230 106  15  84 123  81 153  57 255  99  74 100  38 165 234\n",
      " 239 222 214 171 219  24 103  22 132 226 148 255  91 231  88 227  63  39\n",
      "   4 236 168 234 247  39 198 182 155 244 163  26  17 213   9 152 193 247\n",
      " 234 198 239 160 236  61 232  92 218 248 232 199 240 114 190 158 196  28]\n"
     ]
    }
   ],
   "source": [
    "b = []\n",
    "g = []\n",
    "r = []\n",
    "\n",
    "for c in bgr :\n",
    "    b.append(int(c.split(',')[0]))\n",
    "    g.append(int(c.split(',')[1]))\n",
    "    r.append(int(c.split(',')[2]))\n",
    "\n",
    "b = np.array(b)\n",
    "g = np.array(g)\n",
    "r = np.array(r)\n",
    "\n",
    "print(b)\n",
    "print(g)\n",
    "print(r)"
   ]
  },
  {
   "cell_type": "code",
   "execution_count": 2,
   "metadata": {},
   "outputs": [
    {
     "data": {
      "text/plain": [
       "(822, 610, 3)"
      ]
     },
     "execution_count": 2,
     "metadata": {},
     "output_type": "execute_result"
    }
   ],
   "source": [
    "import cv2\n",
    "\n",
    "image = cv2.imread('./imgs/wuze.jpg')\n",
    "\n",
    "image.shape"
   ]
  },
  {
   "cell_type": "code",
   "execution_count": 26,
   "metadata": {},
   "outputs": [
    {
     "name": "stdout",
     "output_type": "stream",
     "text": [
      "Dlark\n",
      "UltimateGary_color\n",
      "UltimateGary_color\n",
      "UltimateGary_color\n"
     ]
    }
   ],
   "source": [
    "def mouse_callback(event, x, y, flags, param) :\n",
    "    if event == cv2.EVENT_LBUTTONDOWN:\n",
    "        image_color = image[y, x]\n",
    "\n",
    "        print(color[np.argmin((b - image_color[0]) ** 2 + (g - image_color[1]) ** 2 + (r - image_color[2]) ** 2)])\n",
    "        \n",
    "        \n",
    "cv2.namedWindow('image')\n",
    "cv2.setMouseCallback('image', mouse_callback)\n",
    "\n",
    "\n",
    "while(True) :\n",
    "    image = cv2.imread('./imgs/wuze.jpg')\n",
    "    \n",
    "    cv2.imshow('image', image)\n",
    "\n",
    "    if cv2.waitKey(1) & 0xFF == 27:\n",
    "        break\n",
    "cv2.destroyAllWindows()"
   ]
  }
 ],
 "metadata": {
  "kernelspec": {
   "display_name": "Python 3",
   "language": "python",
   "name": "python3"
  },
  "language_info": {
   "codemirror_mode": {
    "name": "ipython",
    "version": 3
   },
   "file_extension": ".py",
   "mimetype": "text/x-python",
   "name": "python",
   "nbconvert_exporter": "python",
   "pygments_lexer": "ipython3",
   "version": "3.11.3"
  },
  "orig_nbformat": 4
 },
 "nbformat": 4,
 "nbformat_minor": 2
}
