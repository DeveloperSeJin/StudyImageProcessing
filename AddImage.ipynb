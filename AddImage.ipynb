{
 "cells": [
  {
   "cell_type": "code",
   "execution_count": 1,
   "metadata": {},
   "outputs": [],
   "source": [
    "import numpy as np\n",
    "import cv2\n",
    "\n",
    "image1 = cv2.imread('./images/Blender_Suzanne1.jpg', cv2.IMREAD_GRAYSCALE)\n",
    "image2 = cv2.imread('./images/Blender_Suzanne2.jpg', cv2.IMREAD_GRAYSCALE)\n",
    "\n",
    "alpha, beta = 0.6, 0.7\n",
    "add_img1 = cv2.add(image1, image2)\n",
    "add_img2 = cv2.add(image1 * alpha, image2 * beta)\n",
    "add_img2 = np.clip(add_img2, 0, 255).astype('uint8')\n",
    "add_img3 = cv2.addWeighted(image1, alpha, image2, beta, 0)\n",
    "\n",
    "titles = ['image1', 'image2', 'add_img1', 'add_img2', 'add_img3']\n",
    "for t in titles : cv2.imshow(t, eval(t))\n",
    "\n",
    "cv2.waitKey(0)\n",
    "cv2.destroyAllWindows()"
   ]
  }
 ],
 "metadata": {
  "kernelspec": {
   "display_name": "Python 3",
   "language": "python",
   "name": "python3"
  },
  "language_info": {
   "codemirror_mode": {
    "name": "ipython",
    "version": 3
   },
   "file_extension": ".py",
   "mimetype": "text/x-python",
   "name": "python",
   "nbconvert_exporter": "python",
   "pygments_lexer": "ipython3",
   "version": "3.11.0"
  },
  "orig_nbformat": 4
 },
 "nbformat": 4,
 "nbformat_minor": 2
}
