{
 "cells": [
  {
   "cell_type": "code",
   "execution_count": 3,
   "metadata": {},
   "outputs": [
    {
     "name": "stdout",
     "output_type": "stream",
     "text": [
      "high_value =  252.0\n",
      "low_vlaue =  0.0\n"
     ]
    }
   ],
   "source": [
    "import numpy as np\n",
    "import cv2\n",
    "#from Common.histogram import draw_histo\n",
    "\n",
    "def search_value_idx(hist, bias = 0) :\n",
    "    for i in range(hist.shape[0]) :\n",
    "        idx = np.abs(bias - i)\n",
    "        if hist[idx] > 0 : return idx\n",
    "    return -1\n",
    "\n",
    "image = cv2.imread('./images/scene1.jpg', cv2.IMREAD_GRAYSCALE)\n",
    "\n",
    "bsize, ranges = [64], [0, 256]\n",
    "hist = cv2.calcHist([image], [0], None, bsize, ranges)\n",
    "\n",
    "bin_width = ranges[1] / bsize[0]\n",
    "low = search_value_idx(hist, 0) * bin_width\n",
    "high = search_value_idx(hist, bsize[0] -1) * bin_width\n",
    "\n",
    "idx = np.arange(0, 256)\n",
    "idx = (idx - low) / (high - low) * 255\n",
    "idx[0 : int(low)] = 0\n",
    "idx[int(high + 1):] = 255\n",
    "\n",
    "dst = cv2.LUT(image, idx.astype('uint8'))\n",
    "\n",
    "hist_dst = cv2.calcHist([dst], [0], None, bsize, ranges)\n",
    "#hist_img = draw_hist(hist, (200, 360))\n",
    "#hist_dst_img = draw_histo(hist_dst, (200, 360))\n",
    "\n",
    "print('high_value = ', high)\n",
    "print('low_vlaue = ', low)\n",
    "cv2.imshow('image', image)\n",
    "#cv2.imshow('hist_img', hist_img)\n",
    "cv2.imshow('dst', dst)\n",
    "#cv2.imshow('hist_dst_img', hist_dst_img)\n",
    "\n",
    "cv2.waitKey(0)\n",
    "cv2.destroyAllWindows()"
   ]
  }
 ],
 "metadata": {
  "kernelspec": {
   "display_name": "Python 3",
   "language": "python",
   "name": "python3"
  },
  "language_info": {
   "codemirror_mode": {
    "name": "ipython",
    "version": 3
   },
   "file_extension": ".py",
   "mimetype": "text/x-python",
   "name": "python",
   "nbconvert_exporter": "python",
   "pygments_lexer": "ipython3",
   "version": "3.11.0"
  },
  "orig_nbformat": 4
 },
 "nbformat": 4,
 "nbformat_minor": 2
}
